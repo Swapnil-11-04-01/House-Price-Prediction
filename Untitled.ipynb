{
 "cells": [
  {
   "cell_type": "code",
   "execution_count": 1,
   "id": "5e82ba36",
   "metadata": {},
   "outputs": [],
   "source": [
    "# Importing modules\n",
    "import pandas as pd\n",
    "from sklearn.tree import DecisionTreeClassifier"
   ]
  },
  {
   "cell_type": "code",
   "execution_count": 6,
   "id": "757ecbc4",
   "metadata": {},
   "outputs": [
    {
     "name": "stdout",
     "output_type": "stream",
     "text": [
      "       Suburb          Address  Rooms Type    Price Method SellerG       Date  \\\n",
      "1  Abbotsford  25 Bloomburg St      2    h  1035000      S  Biggin   4/2/2016   \n",
      "2  Abbotsford     5 Charles St      3    h  1465000     SP  Biggin   4/3/2017   \n",
      "4  Abbotsford      55a Park St      4    h  1600000     VB  Nelson   4/6/2016   \n",
      "6  Abbotsford     124 Yarra St      3    h  1876000      S  Nelson   7/5/2016   \n",
      "7  Abbotsford    98 Charles St      2    h  1636000      S  Nelson  8/10/2016   \n",
      "\n",
      "   Distance  Postcode  ...  Bathroom  Car  Landsize  BuildingArea  YearBuilt  \\\n",
      "1       2.5      3067  ...         1  0.0       156          79.0     1900.0   \n",
      "2       2.5      3067  ...         2  0.0       134         150.0     1900.0   \n",
      "4       2.5      3067  ...         1  2.0       120         142.0     2014.0   \n",
      "6       2.5      3067  ...         2  0.0       245         210.0     1910.0   \n",
      "7       2.5      3067  ...         1  2.0       256         107.0     1890.0   \n",
      "\n",
      "   CouncilArea Lattitude  Longtitude             Regionname Propertycount  \n",
      "1        Yarra  -37.8079    144.9934  Northern Metropolitan          4019  \n",
      "2        Yarra  -37.8093    144.9944  Northern Metropolitan          4019  \n",
      "4        Yarra  -37.8072    144.9941  Northern Metropolitan          4019  \n",
      "6        Yarra  -37.8024    144.9993  Northern Metropolitan          4019  \n",
      "7        Yarra  -37.8060    144.9954  Northern Metropolitan          4019  \n",
      "\n",
      "[5 rows x 21 columns]\n"
     ]
    }
   ],
   "source": [
    "# Loading Data\n",
    "House_Pricing = pd.read_csv('House Pricing.csv')\n",
    "House_Pricing.columns\n",
    "Data = House_Pricing.dropna(axis = 0)\n",
    "print(Data.head())"
   ]
  },
  {
   "cell_type": "code",
   "execution_count": 12,
   "id": "4e4613e6",
   "metadata": {},
   "outputs": [],
   "source": [
    "# Labels and features\n",
    "Data_Features = ['Rooms', 'Bathroom', 'Landsize', 'Lattitude', 'Longtitude'] # Features\n",
    "Y = Data.Price\n",
    "X = Data[Data_Features]"
   ]
  },
  {
   "cell_type": "code",
   "execution_count": 13,
   "id": "3312b397",
   "metadata": {},
   "outputs": [
    {
     "data": {
      "text/plain": [
       "DecisionTreeClassifier(random_state=1)"
      ]
     },
     "execution_count": 13,
     "metadata": {},
     "output_type": "execute_result"
    }
   ],
   "source": [
    "# Model\n",
    "Model = DecisionTreeClassifier(random_state=1)\n",
    "Model.fit(X, Y)"
   ]
  },
  {
   "cell_type": "code",
   "execution_count": 16,
   "id": "82eca284",
   "metadata": {},
   "outputs": [
    {
     "name": "stdout",
     "output_type": "stream",
     "text": [
      "   Rooms  Bathroom  Landsize  Lattitude  Longtitude\n",
      "1      2         1       156   -37.8079    144.9934\n",
      "2      3         2       134   -37.8093    144.9944\n",
      "4      4         1       120   -37.8072    144.9941\n",
      "6      3         2       245   -37.8024    144.9993\n",
      "7      2         1       256   -37.8060    144.9954\n"
     ]
    }
   ],
   "source": [
    "# Training Model\n",
    "print(X.head())"
   ]
  },
  {
   "cell_type": "code",
   "execution_count": 17,
   "id": "03be6d70",
   "metadata": {},
   "outputs": [
    {
     "name": "stdout",
     "output_type": "stream",
     "text": [
      "[1035000 1465000 1600000 1876000 1636000]\n"
     ]
    }
   ],
   "source": [
    "# Predict\n",
    "print(Model.predict(X.head()))"
   ]
  },
  {
   "cell_type": "code",
   "execution_count": null,
   "id": "ee9db6be",
   "metadata": {},
   "outputs": [],
   "source": []
  }
 ],
 "metadata": {
  "kernelspec": {
   "display_name": "Python 3 (ipykernel)",
   "language": "python",
   "name": "python3"
  },
  "language_info": {
   "codemirror_mode": {
    "name": "ipython",
    "version": 3
   },
   "file_extension": ".py",
   "mimetype": "text/x-python",
   "name": "python",
   "nbconvert_exporter": "python",
   "pygments_lexer": "ipython3",
   "version": "3.9.5"
  }
 },
 "nbformat": 4,
 "nbformat_minor": 5
}
